{
  "nbformat": 4,
  "nbformat_minor": 0,
  "metadata": {
    "colab": {
      "provenance": []
    },
    "kernelspec": {
      "name": "python3",
      "display_name": "Python 3"
    },
    "language_info": {
      "name": "python"
    }
  },
  "cells": [
    {
      "cell_type": "markdown",
      "source": [
        "# MODEL ARCHITECTURE"
      ],
      "metadata": {
        "id": "6WNRDSu4TOeq"
      }
    },
    {
      "cell_type": "code",
      "source": [
        "import tensorflow as tf\n",
        "from tensorflow.keras.models import Sequential\n",
        "from tensorflow.keras.layers import BatchNormalization\n",
        "from tensorflow.keras.optimizers import Adam, SGD\n",
        "from tensorflow.keras.layers import Conv1D, MaxPooling1D, Dense, Dropout, Flatten\n",
        "from tensorflow.keras.callbacks import EarlyStopping, ReduceLROnPlateau\n",
        "from tensorflow.keras.regularizers import l2\n",
        "from sklearn.metrics import classification_report, confusion_matrix\n",
        "from sklearn.preprocessing import StandardScaler\n",
        "from sklearn.model_selection import train_test_split\n",
        "import numpy as np\n",
        "import matplotlib.pyplot as plt\n",
        "import seaborn as sns"
      ],
      "metadata": {
        "id": "Cd2Txol8R_SM"
      },
      "execution_count": null,
      "outputs": []
    },
    {
      "cell_type": "code",
      "source": [
        "from google.colab import drive\n",
        "drive.mount('/content/drive')"
      ],
      "metadata": {
        "id": "Uj_UmygrRcgD"
      },
      "execution_count": null,
      "outputs": []
    },
    {
      "cell_type": "code",
      "source": [
        "import pandas as pd\n",
        "\n",
        "file_path = 'path/to/dataset'\n",
        "data = pd.read_csv(file_path)\n",
        "print(data.head())"
      ],
      "metadata": {
        "id": "fYJ8n_VeRdu5"
      },
      "execution_count": null,
      "outputs": []
    },
    {
      "cell_type": "code",
      "source": [
        "filtered_data = data[~data['class'].isin([0, 7])]\n",
        "print(filtered_data['class'].value_counts())\n",
        "filtered_data.drop(columns=['time','label'], inplace=True)\n",
        "\n",
        "filtered_data.shape"
      ],
      "metadata": {
        "id": "HgmYxViLRdxR"
      },
      "execution_count": null,
      "outputs": []
    },
    {
      "cell_type": "code",
      "source": [
        "df = filtered_data.copy()\n",
        "\n",
        "X = df.drop('class', axis=1)\n",
        "y = df['class']"
      ],
      "metadata": {
        "id": "ZoQiA_eHRdzs"
      },
      "execution_count": null,
      "outputs": []
    },
    {
      "cell_type": "code",
      "source": [
        "df.describe()"
      ],
      "metadata": {
        "id": "mqhwkJg1Rd1_"
      },
      "execution_count": null,
      "outputs": []
    },
    {
      "cell_type": "code",
      "source": [
        "import numpy as np\n",
        "import pandas as pd\n",
        "from sklearn.model_selection import train_test_split\n",
        "\n",
        "X = df.iloc[:, :-1].values\n",
        "y = df['class'].values\n",
        "\n",
        "X_amplified = X * 1e4\n",
        "X_normalized = (X_amplified - np.mean(X_amplified, axis=0)) / np.std(X_amplified, axis=0)\n",
        "X_train, X_test, y_train, y_test = train_test_split(X_normalized, y, test_size=0.2, stratify=y, random_state=42)"
      ],
      "metadata": {
        "id": "U9PoVmIFRd4j"
      },
      "execution_count": null,
      "outputs": []
    },
    {
      "cell_type": "code",
      "source": [
        "X_train.shape"
      ],
      "metadata": {
        "id": "wb70aC7MRd65"
      },
      "execution_count": null,
      "outputs": []
    },
    {
      "cell_type": "code",
      "source": [
        "model = Sequential([\n",
        "    Conv1D(filters=32, kernel_size=3, activation='relu', input_shape=(10, 1)),\n",
        "    Conv1D(filters=64, kernel_size=3, activation='relu'),\n",
        "    Conv1D(filters=128, kernel_size=3, activation='relu'),\n",
        "    GlobalMaxPooling1D(),\n",
        "    Flatten(),\n",
        "    Dense(256, activation='relu', kernel_regularizer=l2(0.01)),\n",
        "    Dropout(0.5),\n",
        "    Dense(128, activation='relu', kernel_regularizer=l2(0.01)),\n",
        "    Dropout(0.4),\n",
        "    Dense(64, activation='relu', kernel_regularizer=l2(0.01)),\n",
        "    Dropout(0.4),\n",
        "    Dense(6, activation='softmax')\n",
        "])\n"
      ],
      "metadata": {
        "id": "SZX8J34tRd9R"
      },
      "execution_count": null,
      "outputs": []
    },
    {
      "cell_type": "code",
      "source": [
        "optimizer = SGD(learning_rate=0.0005, momentum=0.9)\n",
        "model.compile(optimizer=optimizer, loss='sparse_categorical_crossentropy', metrics=['accuracy'])\n",
        "\n",
        "early_stopping = EarlyStopping(monitor='val_loss', patience=5, restore_best_weights=True)\n",
        "lr_scheduler = ReduceLROnPlateau(monitor='val_loss', factor=0.5, patience=3, verbose=1)\n"
      ],
      "metadata": {
        "id": "pzVNiJWIRd_s"
      },
      "execution_count": null,
      "outputs": []
    },
    {
      "cell_type": "code",
      "source": [
        "history = model.fit(\n",
        "    X_train, y_train,\n",
        "    validation_data=(X_test, y_test),\n",
        "    epochs=50, batch_size=32,\n",
        "    callbacks=[early_stopping, lr_scheduler]\n",
        ")"
      ],
      "metadata": {
        "id": "AArIiKs1ReCA"
      },
      "execution_count": null,
      "outputs": []
    },
    {
      "cell_type": "code",
      "source": [
        "model.save(\"model6839.keras\")"
      ],
      "metadata": {
        "id": "eCaZpHdjReEU"
      },
      "execution_count": null,
      "outputs": []
    },
    {
      "cell_type": "markdown",
      "source": [
        "# GRADIO DEPLOYMENT"
      ],
      "metadata": {
        "id": "IGXWR-RTTKHB"
      }
    },
    {
      "cell_type": "code",
      "source": [
        "!pip install gradio"
      ],
      "metadata": {
        "id": "RU-U50gde-pi"
      },
      "execution_count": null,
      "outputs": []
    },
    {
      "cell_type": "code",
      "source": [
        "import pandas as pd\n",
        "import numpy as np\n",
        "from tensorflow.keras.models import load_model\n",
        "import gradio as gr"
      ],
      "metadata": {
        "id": "NrqcSmg2e4JL"
      },
      "execution_count": null,
      "outputs": []
    },
    {
      "cell_type": "code",
      "source": [
        "action_map = {\n",
        "    1: \"Hand at rest\",\n",
        "    2: \"Hand clenched in a fist\",\n",
        "    3: \"Wrist flexion\",\n",
        "    4: \"Wrist extension\",\n",
        "    5: \"Radial deviations\",\n",
        "    6: \"Ulnar deviations\",\n",
        "}"
      ],
      "metadata": {
        "id": "jkiatYsqfTFv"
      },
      "execution_count": null,
      "outputs": []
    },
    {
      "cell_type": "code",
      "source": [
        "def action(e1, e2, e3, e4, e5, e6, e7, e8):\n",
        "  model = load_model('model6839.keras')\n",
        "  input_data = np.array([[e1, e2, e3, e4, e5, e6, e7, e8]])\n",
        "  prediction = model.predict(input_data)\n",
        "  predicted_class = np.argmax(prediction, axis=-1)\n",
        "  return action_map.get(predicted_class[0]+1, \"Unknown action\")"
      ],
      "metadata": {
        "id": "LW5M1PC2fJJW"
      },
      "execution_count": null,
      "outputs": []
    },
    {
      "cell_type": "code",
      "source": [
        "inputs = [\n",
        "    gr.Number(label=\"e1\"),\n",
        "    gr.Number(label=\"e2\"),\n",
        "    gr.Number(label=\"e3\"),\n",
        "    gr.Number(label=\"e4\"),\n",
        "    gr.Number(label=\"e5\"),\n",
        "    gr.Number(label=\"e6\"),\n",
        "    gr.Number(label=\"e7\"),\n",
        "    gr.Number(label=\"e8\"),\n",
        "]\n",
        "\n",
        "output = gr.Textbox(label=\"Prediction\")\n",
        "\n",
        "examples = [\n",
        "    [-2.00e-05, 1.00e-05, 2.20e-04, 1.80e-04, -1.50e-04, -5.00e-05, 1.00e-05, 0],\n",
        "    [1.60e-04, -1.00e-04, -2.40e-04, 2.00e-04, 1.00e-04, -9.00e-05, -5.00e-05, -5.00e-05],\n",
        "    [-1.00e-05, 1.00e-05, 1.00e-05, 0, -2.00e-05, 0, -3.00e-05, -3.00e-05],\n",
        "]"
      ],
      "metadata": {
        "id": "xczU7I_ifJ-8"
      },
      "execution_count": null,
      "outputs": []
    },
    {
      "cell_type": "code",
      "source": [
        "def func(e1, e2, e3, e4, e5, e6, e7, e8):\n",
        "  return action(e1, e2, e3, e4, e5, e6, e7, e8)"
      ],
      "metadata": {
        "id": "wEKocTWvfKJN"
      },
      "execution_count": null,
      "outputs": []
    },
    {
      "cell_type": "code",
      "source": [
        "iface = gr.Interface(\n",
        "    fn=func,\n",
        "    inputs=inputs,\n",
        "    outputs=output,\n",
        "    title=\"ML Model Predictor\",\n",
        "    examples=examples,\n",
        "    flagging_options=[\"Working\", \"Not Wotking\"],\n",
        "    description=\"Enter the 8 feature values to get a prediction.\"\n",
        ")"
      ],
      "metadata": {
        "id": "grONL4bMfKFq"
      },
      "execution_count": null,
      "outputs": []
    },
    {
      "cell_type": "code",
      "source": [
        "iface.launch(share=True)"
      ],
      "metadata": {
        "id": "CynB72kffKDS"
      },
      "execution_count": null,
      "outputs": []
    },
    {
      "cell_type": "code",
      "source": [],
      "metadata": {
        "id": "1M6D5raCULgN"
      },
      "execution_count": null,
      "outputs": []
    }
  ]
}